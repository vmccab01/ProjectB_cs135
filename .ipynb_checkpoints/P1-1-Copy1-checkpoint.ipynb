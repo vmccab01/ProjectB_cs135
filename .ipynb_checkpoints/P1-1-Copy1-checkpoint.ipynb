{
 "cells": [
  {
   "cell_type": "code",
   "execution_count": null,
   "id": "14af90f6",
   "metadata": {},
   "outputs": [],
   "source": [
    "import os\n",
    "import numpy as np\n",
    "import pandas as pd\n",
    "import time\n",
    "import warnings\n",
    "\n",
    "from sklearn.neural_network import MLPClassifier\n",
    "import sklearn.metrics\n",
    "from sklearn.metrics import balanced_accuracy_score\n"
   ]
  },
  {
   "cell_type": "markdown",
   "id": "61d8a8a7",
   "metadata": {},
   "source": [
    "### Data Preprocessing"
   ]
  },
  {
   "cell_type": "code",
   "execution_count": null,
   "id": "7742fabf",
   "metadata": {},
   "outputs": [],
   "source": [
    "%run load_and_plot_data.py"
   ]
  },
  {
   "cell_type": "code",
   "execution_count": null,
   "id": "69869112",
   "metadata": {},
   "outputs": [],
   "source": [
    "train_y_df, valid_y_df"
   ]
  },
  {
   "cell_type": "code",
   "execution_count": null,
   "id": "54e2669d",
   "metadata": {},
   "outputs": [],
   "source": [
    "temp = np.array(train_y_df)\n",
    "count_array = temp[:,1]\n",
    "count_train = np.unique(count_array, return_counts = True)\n",
    "\n",
    "temp = np.array(valid_y_df)\n",
    "count_array = temp[:,1]\n",
    "count_valid = np.unique(count_array, return_counts = True)"
   ]
  },
  {
   "cell_type": "code",
   "execution_count": null,
   "id": "0aa57871",
   "metadata": {},
   "outputs": [],
   "source": [
    "count_train, count_valid"
   ]
  },
  {
   "cell_type": "code",
   "execution_count": null,
   "id": "cae3eecf",
   "metadata": {},
   "outputs": [],
   "source": [
    "train_y = np.array(train_y_df['class_uid'])\n",
    "train_y"
   ]
  },
  {
   "cell_type": "code",
   "execution_count": null,
   "id": "eaf3c474",
   "metadata": {},
   "outputs": [],
   "source": [
    "train_x.shape, train_x[0].dtype"
   ]
  },
  {
   "cell_type": "code",
   "execution_count": null,
   "id": "56337565",
   "metadata": {},
   "outputs": [],
   "source": [
    "scaler = sklearn.preprocessing.MinMaxScaler()\n",
    "scaler.fit(train_x)\n",
    "print(np.sum(scaler.transform(train_x)))"
   ]
  },
  {
   "cell_type": "code",
   "execution_count": null,
   "id": "7ccb36b6",
   "metadata": {},
   "outputs": [],
   "source": [
    "normed_train_x = sklearn.preprocessing.normalize(train_x, norm = 'l1', axis = 1)\n",
    "normed_train_x.shape"
   ]
  },
  {
   "cell_type": "code",
   "execution_count": null,
   "id": "a63e740f",
   "metadata": {},
   "outputs": [],
   "source": [
    "mlp = MLPClassifier(\n",
    "            activation='relu',\n",
    "            alpha=0.0001,\n",
    "            max_iter=2000,\n",
    "            solver='sgd',\n",
    "            learning_rate='adaptive', \n",
    "            momentum=0.0,\n",
    "            tol=1e-5,\n",
    "            n_iter_no_change=50,\n",
    "            )"
   ]
  },
  {
   "cell_type": "code",
   "execution_count": null,
   "id": "1dd2de5c",
   "metadata": {},
   "outputs": [],
   "source": [
    "mlp_hyperparameter_grid = dict(\n",
    "    hidden_layer_sizes = [32, 64, 128],\n",
    "    random_state = [101],\n",
    "    batch_size= [5, 100, 1000],\n",
    "    learning_rate_init=[0.001, 0.005, 0.0001, 0.0005], \n",
    "    )"
   ]
  },
  {
   "cell_type": "code",
   "execution_count": null,
   "id": "03d7eebd",
   "metadata": {},
   "outputs": [],
   "source": [
    "valid_y = np.array(valid_y_df['class_uid'])\n",
    "valid_y.shape, train_y.shape"
   ]
  },
  {
   "cell_type": "markdown",
   "id": "422b8baf",
   "metadata": {},
   "source": [
    "### fit on train"
   ]
  },
  {
   "cell_type": "code",
   "execution_count": null,
   "id": "b98bedf2",
   "metadata": {},
   "outputs": [],
   "source": [
    "### splitter\n",
    "valid_indicators_L = np.hstack([\n",
    "    -1 * np.ones(int(0.8 * train_y.size)), # -1 means never include this example in any test split\n",
    "    0  * np.ones(train_y.size - int(0.8 * train_y.size)), #  0 means include in the first test split (we count starting at 0 in python)\n",
    "    ])\n",
    "my_splitter = sklearn.model_selection.PredefinedSplit(valid_indicators_L)"
   ]
  },
  {
   "cell_type": "code",
   "execution_count": null,
   "id": "984621c1",
   "metadata": {},
   "outputs": [],
   "source": [
    "mlp_searcher = sklearn.model_selection.GridSearchCV(estimator = mlp,\n",
    "                                                    param_grid = mlp_hyperparameter_grid,\n",
    "                                                    scoring = 'balanced_accuracy',\n",
    "                                                    cv = my_splitter,\n",
    "                                                    return_train_score = True,\n",
    "                                                    refit=False\n",
    "                                                   )"
   ]
  },
  {
   "cell_type": "code",
   "execution_count": 20,
   "id": "a2aae68b",
   "metadata": {},
   "outputs": [],
   "source": [
    "start_time_sec = time.time()\n",
    "mlp_searcher.fit(normed_train_x, train_y)\n",
    "elapsed_time_sec = time.time() - start_time_sec"
   ]
  },
  {
   "cell_type": "code",
   "execution_count": null,
   "id": "ad8c60b6",
   "metadata": {},
   "outputs": [],
   "source": [
    "mlp_searcher_result = pd.DataFrame(mlp_searcher.cv_results_).copy()\n",
    "mlp_searcher_result"
   ]
  },
  {
   "cell_type": "code",
   "execution_count": null,
   "id": "57cd30b4",
   "metadata": {},
   "outputs": [],
   "source": [
    "mlp_searcher.best_params_"
   ]
  }
 ],
 "metadata": {
  "kernelspec": {
   "display_name": "Python 3 (ipykernel)",
   "language": "python",
   "name": "python3"
  },
  "language_info": {
   "codemirror_mode": {
    "name": "ipython",
    "version": 3
   },
   "file_extension": ".py",
   "mimetype": "text/x-python",
   "name": "python",
   "nbconvert_exporter": "python",
   "pygments_lexer": "ipython3",
   "version": "3.10.12"
  }
 },
 "nbformat": 4,
 "nbformat_minor": 5
}
